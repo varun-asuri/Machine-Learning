{
 "metadata": {
  "language_info": {
   "codemirror_mode": {
    "name": "ipython",
    "version": 3
   },
   "file_extension": ".py",
   "mimetype": "text/x-python",
   "name": "python",
   "nbconvert_exporter": "python",
   "pygments_lexer": "ipython3",
   "version": "3.8.3-final"
  },
  "orig_nbformat": 2,
  "kernelspec": {
   "name": "Python 3.8.3 64-bit",
   "display_name": "Python 3.8.3 64-bit",
   "metadata": {
    "interpreter": {
     "hash": "a6e9b771d6f0c7fa463c452f316aa52054b51e75329a9b5af3885cfbe135ba2e"
    }
   }
  }
 },
 "nbformat": 4,
 "nbformat_minor": 2,
 "cells": [
  {
   "cell_type": "code",
   "execution_count": 14,
   "metadata": {},
   "outputs": [],
   "source": [
    "from tensorflow.keras.datasets import mnist\n",
    "(x_train, y_train), (x_test, y_test) = mnist.load_data()\n"
   ]
  },
  {
   "cell_type": "code",
   "execution_count": 23,
   "metadata": {},
   "outputs": [
    {
     "output_type": "execute_result",
     "data": {
      "text/plain": [
       "KMeans(n_clusters=100)"
      ]
     },
     "metadata": {},
     "execution_count": 23
    }
   ],
   "source": [
    "import numpy as np\n",
    "from sklearn.cluster import KMeans\n",
    "x_train = x_train.reshape(len(x_train), -1)\n",
    "kmeans = KMeans(n_clusters=100)\n",
    "kmeans.fit(x_train)"
   ]
  },
  {
   "cell_type": "code",
   "execution_count": 24,
   "metadata": {
    "tags": []
   },
   "outputs": [
    {
     "output_type": "stream",
     "name": "stdout",
     "text": [
      "Accuracy: 85.81%\n"
     ]
    }
   ],
   "source": [
    "clusters = {}\n",
    "for i in range(len(kmeans.labels_)):\n",
    "    c = kmeans.labels_[i]\n",
    "    if c in clusters: np.append(clusters[c], y_train[i])\n",
    "    else: clusters[c] = np.array([y_train[i]])\n",
    "for label in clusters:\n",
    "    clusters[label] = np.argmax(np.bincount(clusters[label]))\n",
    "\n",
    "x_test = x_test.reshape(len(x_test), -1)\n",
    "y_result = kmeans.predict(x_test)\n",
    "for i in range(len(y_result)):\n",
    "    y_result[i] = clusters[y_result[i]]\n",
    "\n",
    "from sklearn.metrics import accuracy_score\n",
    "accuracy = accuracy_score(y_result, y_test) * 100\n",
    "print('Accuracy: ', accuracy, '%', sep='')"
   ]
  },
  {
   "cell_type": "code",
   "execution_count": null,
   "metadata": {},
   "outputs": [],
   "source": []
  }
 ]
}